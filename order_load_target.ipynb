{
 "cells": [
  {
   "cell_type": "code",
   "execution_count": 0,
   "metadata": {
    "application/vnd.databricks.v1+cell": {
     "cellMetadata": {},
     "inputWidgets": {},
     "nuid": "3c12b6dd-0ebd-468d-93d6-3a7fc62d7521",
     "showTitle": false,
     "tableResultSettingsMap": {},
     "title": ""
    }
   },
   "outputs": [],
   "source": [
    "from delta.tables import *\n",
    "\n",
    "stage_table_name=\"incremental_load.default.orders_stage\"\n",
    "target_table_name=\"incremental_load.default.orders_target\"\n",
    "\n"
   ]
  },
  {
   "cell_type": "code",
   "execution_count": 0,
   "metadata": {
    "application/vnd.databricks.v1+cell": {
     "cellMetadata": {},
     "inputWidgets": {},
     "nuid": "345e55f9-c713-4d79-b38f-88d5c3f6bb1a",
     "showTitle": false,
     "tableResultSettingsMap": {},
     "title": ""
    }
   },
   "outputs": [],
   "source": [
    "#Read the data from the stage table \n",
    "stage_df=spark.read.table(stage_table_name)\n"
   ]
  },
  {
   "cell_type": "code",
   "execution_count": 0,
   "metadata": {
    "application/vnd.databricks.v1+cell": {
     "cellMetadata": {},
     "inputWidgets": {},
     "nuid": "a255e585-c2c0-41a2-8837-816ec4ab4a70",
     "showTitle": false,
     "tableResultSettingsMap": {},
     "title": ""
    }
   },
   "outputs": [],
   "source": [
    "#create equivalent target table schema if target table doesn't exist \n",
    "\n",
    "if not spark._jsparkSession.catalog().tableExists(target_table_name):\n",
    "    stage_df.write.format(\"delta\").saveAsTable(target_table_name)\n",
    "else:\n",
    "    #perform delta table merge query for upsert based on tracking_num column\n",
    "    target_table=DeltaTable.forName(spark,target_table_name)\n",
    "\n",
    "    #define the merge condition based on the tracking_num column\n",
    "    merge_condition=\"stage.tracking_num=target.tracking_num\"\n",
    "\n",
    "    #execute the merge operation\n",
    "    target_table.alias(\"target\")\\\n",
    "        .merge(stage_df.alias(\"stage\"),merge_condition)\\\n",
    "        .whenMatchedDelete()\\\n",
    "        .execute()\n",
    "\n",
    "    stage_df.write.format('delta').mode(\"append\").saveAsTable(target_table_name)   "
   ]
  }
 ],
 "metadata": {
  "application/vnd.databricks.v1+notebook": {
   "computePreferences": null,
   "dashboards": [],
   "environmentMetadata": {
    "base_environment": "",
    "environment_version": "2"
   },
   "inputWidgetPreferences": null,
   "language": "python",
   "notebookMetadata": {
    "pythonIndentUnit": 4
   },
   "notebookName": "order_load_target",
   "widgets": {}
  },
  "language_info": {
   "name": "python"
  }
 },
 "nbformat": 4,
 "nbformat_minor": 0
}
