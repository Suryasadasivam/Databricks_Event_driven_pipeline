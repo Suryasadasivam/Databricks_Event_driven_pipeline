{
 "cells": [
  {
   "cell_type": "code",
   "execution_count": 0,
   "metadata": {
    "application/vnd.databricks.v1+cell": {
     "cellMetadata": {},
     "inputWidgets": {},
     "nuid": "0105219a-3656-4b2f-907a-2cf31b183dd8",
     "showTitle": false,
     "tableResultSettingsMap": {},
     "title": ""
    }
   },
   "outputs": [],
   "source": [
    "\n",
    "source_dir= \"/Volumes/incremental_load/default/orders_data/source/\"\n",
    "target_dir= \"/Volumes/incremental_load/default/orders_data/Archieve/\"\n",
    "stage_table= \"incremental_load.default.orders_stage\""
   ]
  },
  {
   "cell_type": "code",
   "execution_count": 0,
   "metadata": {
    "application/vnd.databricks.v1+cell": {
     "cellMetadata": {},
     "inputWidgets": {},
     "nuid": "05d08ea2-b989-4eb0-bf71-67732311c474",
     "showTitle": false,
     "tableResultSettingsMap": {},
     "title": ""
    }
   },
   "outputs": [],
   "source": [
    "#Read csv file from dbfs path under staging folder \n",
    "df=spark.read.csv(source_dir,header=True,inferSchema=True)\n"
   ]
  },
  {
   "cell_type": "code",
   "execution_count": 0,
   "metadata": {
    "application/vnd.databricks.v1+cell": {
     "cellMetadata": {},
     "inputWidgets": {},
     "nuid": "a4d1d46a-edeb-4caa-a994-0d6cdad2e57f",
     "showTitle": false,
     "tableResultSettingsMap": {},
     "title": ""
    }
   },
   "outputs": [],
   "source": [
    "#create Delta table named Stage_zn if it doesn't exist and overwrite the data in stage table \n",
    "\n",
    "df.write.format(\"delta\").mode(\"overwrite\").saveAsTable(stage_table)"
   ]
  },
  {
   "cell_type": "code",
   "execution_count": 0,
   "metadata": {
    "application/vnd.databricks.v1+cell": {
     "cellMetadata": {},
     "inputWidgets": {},
     "nuid": "fd7a7449-c705-443d-88f1-29b3b3a7e951",
     "showTitle": false,
     "tableResultSettingsMap": {},
     "title": ""
    }
   },
   "outputs": [],
   "source": [
    "#list all the files in the source directory \n",
    "files=dbutils.fs.ls(source_dir)\n",
    "\n",
    "#Iterate on the list one by one and print each file path separately\n",
    "\n",
    "for file in files:\n",
    "    src_path=file.path\n",
    "\n",
    "    #construcr the target path \n",
    "    target_path=target_dir +src_path.split(\"/\")[-1]\n",
    "\n",
    "    #Move the file from source to target directory\n",
    "    dbutils.fs.mv(src_path,target_path) "
   ]
  }
 ],
 "metadata": {
  "application/vnd.databricks.v1+notebook": {
   "computePreferences": null,
   "dashboards": [],
   "environmentMetadata": {
    "base_environment": "",
    "environment_version": "2"
   },
   "inputWidgetPreferences": null,
   "language": "python",
   "notebookMetadata": {
    "pythonIndentUnit": 4
   },
   "notebookName": "order_stage_load",
   "widgets": {}
  },
  "language_info": {
   "name": "python"
  }
 },
 "nbformat": 4,
 "nbformat_minor": 0
}
